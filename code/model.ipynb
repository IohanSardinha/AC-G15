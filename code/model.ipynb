{
 "cells": [
  {
   "cell_type": "markdown",
   "id": "930832d8-8a93-4820-a625-af7e7dd2da16",
   "metadata": {
    "tags": []
   },
   "source": [
    "### TO DO\n",
    "\n",
    "    feature importance\n",
    "    \n",
    "    Feature selection\n",
    "    \n",
    "    "
   ]
  },
  {
   "cell_type": "code",
   "execution_count": 215,
   "id": "b7444891-bbd8-447d-8fbb-39834da4fd45",
   "metadata": {},
   "outputs": [],
   "source": [
    "%matplotlib inline\n",
    "from datetime import datetime\n",
    "import matplotlib.pyplot as plt\n",
    "import pandas as pd\n",
    "import numpy as np\n",
    "from sklearn import metrics\n",
    "from sklearn.model_selection import train_test_split\n",
    "from sklearn.preprocessing import MinMaxScaler, OneHotEncoder, LabelEncoder, Normalizer, StandardScaler\n",
    "from sklearn.neighbors import KNeighborsClassifier\n",
    "from sklearn.metrics import classification_report, f1_score\n",
    "from sklearn.linear_model import LogisticRegression\n",
    "from sklearn.svm import SVC, LinearSVC\n",
    "from sklearn.tree import DecisionTreeClassifier\n",
    "from sklearn.naive_bayes import GaussianNB\n",
    "from sklearn.ensemble import RandomForestClassifier\n",
    "from sklearn.ensemble import GradientBoostingClassifier\n",
    "from sklearn.ensemble import BaggingClassifier\n",
    "from sklearn.neural_network import MLPClassifier\n",
    "from sklearn.compose import make_column_transformer\n",
    "from sklearn.model_selection import StratifiedKFold\n",
    "from imblearn.over_sampling import SMOTE \n",
    "from sklearn.feature_selection import GenericUnivariateSelect, chi2, SelectFpr\n",
    "from imblearn.pipeline import Pipeline\n",
    "from sklearn.model_selection import GridSearchCV"
   ]
  },
  {
   "cell_type": "code",
   "execution_count": 219,
   "id": "bc5b4cf4-9ffa-4811-a8fe-456561c309dd",
   "metadata": {},
   "outputs": [],
   "source": [
    "train = pd.read_csv(\"data/final_loan_train.csv\")\n",
    "X_all = train.drop(columns=[\"loan_id\",\"loan_success\"])\n",
    "Y_all = train[\"loan_success\"]\n",
    "\n",
    "\n",
    "categorical_cols = [col for col in X_all.columns if X_all[col].dtype == object]\n",
    "scalar_cols = [col for col in X_all.columns if X_all[col].dtype != object]\n",
    "\n",
    "scaler = make_column_transformer((StandardScaler(), scalar_cols),\n",
    "                                 (OneHotEncoder(), categorical_cols))\n",
    "\n",
    "scaler.fit_transform(X_all)\n",
    "X_all = scaler.transform(X_all)\n",
    "\n",
    "\n",
    "split_size = 3\n"
   ]
  },
  {
   "cell_type": "code",
   "execution_count": 210,
   "id": "eaccc04b",
   "metadata": {},
   "outputs": [],
   "source": [
    "def get_best_model(X, Y, models):\n",
    "    best = None\n",
    "    best_auc = 0\n",
    "    best_params = {}\n",
    "    for model, params in models.items():\n",
    "        print(\"Model: \"+model.__class__.__name__, end=\"\")\n",
    "\n",
    "        pipeline = Pipeline([(\"smote\", SMOTE(random_state=42)),\n",
    "                             #(\"gus\", SelectFpr(chi2)),\n",
    "                             (\"m\", model)])\n",
    "        kfold = StratifiedKFold(n_splits=4, shuffle=True)\n",
    "        search = GridSearchCV(pipeline, params, n_jobs=-1 , scoring=\"roc_auc\", cv=kfold).fit(X,Y)\n",
    "        auc = search.best_score_\n",
    "\n",
    "        print(\"\\t auc: \"+str(auc))\n",
    "        if auc > best_auc:\n",
    "            best, best_auc = model, auc\n",
    "            best_params = { key.replace(\"m__\", \"\"): value for key, value in search.best_params_.items()}\n",
    "    return best, best_params , best_auc"
   ]
  },
  {
   "cell_type": "code",
   "execution_count": 118,
   "id": "f296ce7f-3271-49ba-a512-c6ddeb4579d7",
   "metadata": {},
   "outputs": [],
   "source": [
    "models = {}"
   ]
  },
  {
   "cell_type": "markdown",
   "id": "ce6add8c",
   "metadata": {},
   "source": [
    "## KNN"
   ]
  },
  {
   "cell_type": "code",
   "execution_count": 119,
   "id": "3cb690a6",
   "metadata": {},
   "outputs": [],
   "source": [
    "models[KNeighborsClassifier()] = {}"
   ]
  },
  {
   "cell_type": "markdown",
   "id": "ce6add8c",
   "metadata": {},
   "source": [
    "## Log Reg"
   ]
  },
  {
   "cell_type": "code",
   "execution_count": 120,
   "id": "3cb690a6",
   "metadata": {},
   "outputs": [],
   "source": [
    "models[LogisticRegression()] = {\n",
    "    \"m__max_iter\":[1000]\n",
    "}"
   ]
  },
  {
   "cell_type": "markdown",
   "id": "ce6add8c",
   "metadata": {},
   "source": [
    "## SVM"
   ]
  },
  {
   "cell_type": "code",
   "execution_count": 164,
   "id": "3cb690a6",
   "metadata": {},
   "outputs": [],
   "source": [
    "models[SVC()] = {\n",
    "    \"m__kernel\":[\"linear\",\"poly\", \"rbf\", \"sigmoid\"],\n",
    "    \"m__probability\":[True]\n",
    "}"
   ]
  },
  {
   "cell_type": "markdown",
   "id": "ce6add8c",
   "metadata": {},
   "source": [
    "## Naive Bayes"
   ]
  },
  {
   "cell_type": "code",
   "execution_count": 122,
   "id": "3cb690a6",
   "metadata": {},
   "outputs": [],
   "source": [
    "models[GaussianNB()] = {}"
   ]
  },
  {
   "cell_type": "markdown",
   "id": "ce6add8c",
   "metadata": {},
   "source": [
    "## XBoost"
   ]
  },
  {
   "cell_type": "code",
   "execution_count": 123,
   "id": "3cb690a6",
   "metadata": {},
   "outputs": [],
   "source": [
    "models[GradientBoostingClassifier()] = {}"
   ]
  },
  {
   "cell_type": "markdown",
   "id": "ce6add8c",
   "metadata": {},
   "source": [
    "## Bagging"
   ]
  },
  {
   "cell_type": "code",
   "execution_count": 124,
   "id": "3cb690a6",
   "metadata": {},
   "outputs": [],
   "source": [
    "models[BaggingClassifier()] = {}"
   ]
  },
  {
   "cell_type": "markdown",
   "id": "ce6add8c",
   "metadata": {},
   "source": [
    "## Decision Tree"
   ]
  },
  {
   "cell_type": "code",
   "execution_count": 125,
   "id": "3cb690a6",
   "metadata": {},
   "outputs": [],
   "source": [
    "models[DecisionTreeClassifier()] = {}"
   ]
  },
  {
   "cell_type": "markdown",
   "id": "45f29354",
   "metadata": {},
   "source": [
    "## Random Forest"
   ]
  },
  {
   "cell_type": "code",
   "execution_count": 126,
   "id": "ee775353",
   "metadata": {},
   "outputs": [],
   "source": [
    "models[RandomForestClassifier()] = {\n",
    "    \"m__n_estimators\":[10, 100, 200, 1000],\n",
    "    \"m__criterion\":[\"gini\", \"entropy\"],\n",
    "    \"m__max_features\":[\"auto\", \"sqrt\", \"log2\"],\n",
    "    \"m__class_weight\":[\"balanced\", \"balanced_subsample\"]\n",
    "}"
   ]
  },
  {
   "cell_type": "markdown",
   "id": "39fc5d7e",
   "metadata": {},
   "source": [
    "## Get best model"
   ]
  },
  {
   "cell_type": "code",
   "execution_count": 217,
   "id": "30920d98",
   "metadata": {},
   "outputs": [
    {
     "name": "stdout",
     "output_type": "stream",
     "text": [
      "Model: KNeighborsClassifier\t auc: 0.5676784189988415\n",
      "Model: LogisticRegression\t auc: 0.604442183403451\n",
      "Model: SVC\t auc: 0.5632430949332358\n",
      "Model: GaussianNB\t auc: 0.533807199256143\n",
      "Model: GradientBoostingClassifier\t auc: 0.6651263642460825\n",
      "Model: BaggingClassifier\t auc: 0.7046504405219194\n",
      "Model: DecisionTreeClassifier\t auc: 0.6205536247789769\n",
      "Model: RandomForestClassifier\t auc: 0.7455543869276263\n",
      "Model: SVC\t auc: 0.5653755868544601\n"
     ]
    },
    {
     "data": {
      "text/plain": [
       "(RandomForestClassifier(class_weight='balanced_subsample', max_features='sqrt'),\n",
       " 0.7455543869276263)"
      ]
     },
     "execution_count": 217,
     "metadata": {},
     "output_type": "execute_result"
    }
   ],
   "source": [
    "model, best_params , auc = get_best_model(X_all,Y_all, models)\n",
    "exec(\"model = \"+model.__class__.__name__+\"(**best_params)\")\n",
    "model, auc"
   ]
  },
  {
   "cell_type": "markdown",
   "id": "b4292402",
   "metadata": {},
   "source": [
    "## Train model"
   ]
  },
  {
   "cell_type": "code",
   "execution_count": 183,
   "id": "9c0d0307",
   "metadata": {},
   "outputs": [],
   "source": [
    "modelsv = model"
   ]
  },
  {
   "cell_type": "code",
   "execution_count": 222,
   "id": "71521142",
   "metadata": {},
   "outputs": [
    {
     "data": {
      "text/plain": [
       "RandomForestClassifier(class_weight='balanced_subsample', max_features='sqrt')"
      ]
     },
     "execution_count": 222,
     "metadata": {},
     "output_type": "execute_result"
    }
   ],
   "source": [
    "sm = SMOTE(random_state=42)\n",
    "X_train, Y_train = sm.fit_resample(X_all, Y_all)\n",
    "\n",
    "#sfpr = SelectFpr(chi2)\n",
    "#sfpr.fit(X_train, Y_train)\n",
    "#X_train = sfpr.transform(X_train)\n",
    "\n",
    "\n",
    "model.fit(X_train, Y_train)"
   ]
  },
  {
   "cell_type": "markdown",
   "id": "a2602464-1a26-4c29-a353-6f4df035c4df",
   "metadata": {},
   "source": [
    "# Save result"
   ]
  },
  {
   "cell_type": "code",
   "execution_count": 224,
   "id": "db2bb3ad-9fa9-450d-9c13-19ba9ad38f7d",
   "metadata": {},
   "outputs": [],
   "source": [
    "def saveModel(model):\n",
    "    test = pd.read_csv(\"data/final_loan_test.csv\")\n",
    "    X = test.drop(columns=[\"loan_id\",\"loan_success\"])\n",
    "    scaler.fit(X)\n",
    "    X = scaler.transform(X)\n",
    "    #X = sfpr.transform(X)\n",
    "    Y = model.predict_proba(X)\n",
    "    test[\"loan_success\"] = pd.DataFrame(Y)[0]\n",
    "    file_name = \"(\"+str(int(auc*10000)/100.0)+\")\"+datetime.now().strftime(\"%H:%M_%Y.%m.%d\")+\"_\"+model.__class__.__name__+\"_prediction.csv\"\n",
    "    test[[\"loan_id\",\"loan_success\"]].rename(columns={\"loan_id\":\"Id\",\"loan_success\":\"Predicted\"}).to_csv(\"predictions/\"+file_name,index=False)\n",
    "    print(file_name+\" saved successfully\")"
   ]
  },
  {
   "cell_type": "code",
   "execution_count": 225,
   "id": "d7e87503",
   "metadata": {},
   "outputs": [
    {
     "name": "stdout",
     "output_type": "stream",
     "text": [
      "(74.55)13:18_2021.12.12_RandomForestClassifier_prediction.csv saved successfully\n"
     ]
    }
   ],
   "source": [
    "if type(model) == list:\n",
    "    for m in model:\n",
    "        saveModel(m)\n",
    "else:\n",
    "    saveModel(model)"
   ]
  }
 ],
 "metadata": {
  "kernelspec": {
   "display_name": "Python 3 (ipykernel)",
   "language": "python",
   "name": "python3"
  },
  "language_info": {
   "codemirror_mode": {
    "name": "ipython",
    "version": 3
   },
   "file_extension": ".py",
   "mimetype": "text/x-python",
   "name": "python",
   "nbconvert_exporter": "python",
   "pygments_lexer": "ipython3",
   "version": "3.8.10"
  }
 },
 "nbformat": 4,
 "nbformat_minor": 5
}
