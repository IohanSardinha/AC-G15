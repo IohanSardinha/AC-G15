{
 "cells": [
  {
   "cell_type": "code",
   "execution_count": null,
   "metadata": {},
   "outputs": [],
   "source": [
    "import pandas as pd \n",
    "import numpy as np"
   ]
  },
  {
   "cell_type": "code",
   "execution_count": null,
   "metadata": {},
   "outputs": [],
   "source": [
    "trans = pd.read_csv('data/trans_test.csv', sep=\";\")\n",
    "trans = trans.sort_values(by=['date'])\n",
    "#tornar dataframe mais pequeno, porque é muito grande,logo manter account_ids que estão em loan\n",
    "loan = pd.read_csv('data/loan_test.csv', sep=\";\")\n",
    "trans = trans[trans['account_id'].isin(loan['account_id'])]"
   ]
  },
  {
   "cell_type": "code",
   "execution_count": null,
   "metadata": {},
   "outputs": [],
   "source": [
    "#lista com todos os ids de contas\n",
    "#account_ids = account['account_id'].to_frame()\n",
    "#nr_trans = trans.pivot_table(columns=\"account_id\", aggfunc=\"size\")\n",
    "#trans = trans[trans['account_id'].isin(account_ids)]\n",
    "#trans\n",
    "\n",
    "for index, row in trans.iterrows():\n",
    "    #tem que haver maneira mais eficiente, porque estou a processar varias vezes o mesmo account_id, porque agrego logo todos as transacoes de um account_id\n",
    "    rows = trans[trans['account_id'] == trans.loc[index, 'account_id']]\n",
    "    trans.loc[index, 'nr_movements'] = len(rows)\n",
    "    \n",
    "    trans.loc[index, 'min_trans_amount'] = min(rows['amount'])\n",
    "    trans.loc[index, 'max_trans_amount'] = max(rows['amount'])\n",
    "    trans.loc[index, 'avg_trans_amount'] = rows['amount'].mean()\n",
    "    \n",
    "    trans.loc[index, 'min_balance'] = min(rows['balance'])\n",
    "    trans.loc[index, 'max_balance'] = max(rows['balance'])\n",
    "    trans.loc[index, 'avg_balance'] = rows['balance'].mean() "
   ]
  },
  {
   "cell_type": "code",
   "execution_count": null,
   "metadata": {},
   "outputs": [],
   "source": [
    "trans_f = trans.drop(columns=['type', 'operation', \"k_symbol\", \"account\", \"bank\", \"trans_id\", \"date\"])\n",
    "trans_f = trans_f.dropna()\n",
    "trans_f = trans_f.drop_duplicates(subset=['account_id'], keep='last')\n",
    "trans_f.to_csv('data/trans_test_ready.csv', index=False)"
   ]
  }
 ],
 "metadata": {
  "kernelspec": {
   "display_name": "Python 3",
   "language": "python",
   "name": "python3"
  },
  "language_info": {
   "codemirror_mode": {
    "name": "ipython",
    "version": 3
   },
   "file_extension": ".py",
   "mimetype": "text/x-python",
   "name": "python",
   "nbconvert_exporter": "python",
   "pygments_lexer": "ipython3",
   "version": "3.8.5"
  }
 },
 "nbformat": 4,
 "nbformat_minor": 4
}
