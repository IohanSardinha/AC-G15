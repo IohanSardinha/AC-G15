{
 "cells": [
  {
   "cell_type": "markdown",
   "id": "930832d8-8a93-4820-a625-af7e7dd2da16",
   "metadata": {
    "tags": []
   },
   "source": [
    "### TO DO\n",
    "## Criar novos modelos\n",
    "\n",
    "    Cross Validation\n",
    "    \n",
    "    testar parametrizações\n",
    "    SMOTE\n",
    "\n",
    "## Métricas\n",
    "    Para entender direto os resultados das predições dos modelos\n",
    "\n",
    "## Analisar os dados mais profundamente\n",
    "    Quais são melhores para continuar na modelação\n",
    "    \n",
    "    Quais podem ser alterados/ juntados\n",
    "    \n",
    "    Feature selection\n",
    "    \n",
    "## Analiar os modelos\n",
    "    Analisar os parâmetros dos modelos\n",
    "    \n",
    "    Analisar mais modelos e o porque de usá-los\n",
    "    \n",
    "    Parameter tuning\n",
    "    "
   ]
  },
  {
   "cell_type": "code",
   "execution_count": 12,
   "id": "b7444891-bbd8-447d-8fbb-39834da4fd45",
   "metadata": {},
   "outputs": [],
   "source": [
    "%matplotlib inline\n",
    "from datetime import datetime\n",
    "import matplotlib.pyplot as plt\n",
    "import pandas as pd\n",
    "import numpy as np\n",
    "from sklearn import metrics\n",
    "from sklearn.model_selection import train_test_split\n",
    "from sklearn.preprocessing import StandardScaler, OneHotEncoder, LabelEncoder\n",
    "from sklearn.neighbors import KNeighborsClassifier\n",
    "from sklearn.metrics import classification_report, f1_score\n",
    "from sklearn.linear_model import LogisticRegression\n",
    "from sklearn.svm import SVC\n",
    "from sklearn.tree import DecisionTreeClassifier\n",
    "from sklearn.naive_bayes import GaussianNB\n",
    "from sklearn.ensemble import RandomForestClassifier\n",
    "from sklearn.ensemble import GradientBoostingClassifier\n",
    "from sklearn.ensemble import BaggingClassifier\n",
    "from sklearn.neural_network import MLPClassifier\n",
    "from sklearn.compose import make_column_transformer\n",
    "from sklearn.model_selection import StratifiedKFold\n",
    "from imblearn.over_sampling import SMOTE \n",
    "from sklearn.feature_selection import VarianceThreshold"
   ]
  },
  {
   "cell_type": "code",
   "execution_count": 13,
   "id": "bc5b4cf4-9ffa-4811-a8fe-456561c309dd",
   "metadata": {},
   "outputs": [],
   "source": [
    "train = pd.read_csv(\"data/final_loan_train.csv\")\n",
    "X_all = train.drop(columns=[\"loan_id\",\"loan_success\"])\n",
    "Y_all = train[\"loan_success\"]\n",
    "\n",
    "categorical_cols = [col for col in X_all.columns if X_all[col].dtype == object]\n",
    "scalar_cols = [col for col in X_all.columns if X_all[col].dtype != object]\n",
    "\n",
    "scaler = make_column_transformer((StandardScaler(), scalar_cols),\n",
    "                                 (OneHotEncoder(), categorical_cols))\n",
    "scaler.fit_transform(X_all)\n",
    "X_all = scaler.transform(X_all)\n",
    "\n",
    "#varianceSelector = VarianceThreshold(threshold=(.8 * (1 - .8)))\n",
    "#varianceSelector.fit(X_res)\n",
    "\n",
    "#X_res = varianceSelector.transform(X_res)\n",
    "\n",
    "split_size = 3\n"
   ]
  },
  {
   "cell_type": "code",
   "execution_count": 6,
   "id": "3c1a5c3c",
   "metadata": {},
   "outputs": [],
   "source": [
    "def calc_auc(y_true, predictions):\n",
    "    fpr, tpr, _ = metrics.roc_curve(y_true, pd.DataFrame(predictions)[0].tolist(), pos_label=-1)\n",
    "    return metrics.auc(fpr, tpr)"
   ]
  },
  {
   "cell_type": "code",
   "execution_count": 20,
   "id": "6b3b5518",
   "metadata": {},
   "outputs": [],
   "source": [
    "def get_model_auc(X,Y, model,  k_folds=3, repetitions=43):\n",
    "    auc = 0\n",
    "    for r in range(repetitions):\n",
    "        kfold = StratifiedKFold(n_splits=k_folds, shuffle=True, random_state=r)\n",
    "        for train, test in kfold.split(X, Y):\n",
    "            X_train, X_test, Y_train, Y_test = X[train], X[test], Y[train], Y[test]\n",
    "            \n",
    "            sm = SMOTE(random_state=42)\n",
    "            X_train, Y_train = sm.fit_resample(X_train, Y_train)\n",
    "\n",
    "            model.fit(X_train, Y_train)\n",
    "\n",
    "            Y_pred = model.predict_proba(X_test)\n",
    "\n",
    "            auc = max(auc, calc_auc(Y_test, Y_pred))\n",
    "    return auc"
   ]
  },
  {
   "cell_type": "code",
   "execution_count": 27,
   "id": "eaccc04b",
   "metadata": {},
   "outputs": [],
   "source": [
    "def get_best_model(X, Y, models):\n",
    "    best = None\n",
    "    best_auc = 0\n",
    "    for model in models:\n",
    "        print(\"Model: \"+model.__class__.__name__, end=\"\")\n",
    "        auc = get_model_auc(X,Y, model)\n",
    "        print(\"\\t auc: \"+str(auc))\n",
    "        if auc > best_auc:\n",
    "            best, best_auc = model, auc\n",
    "    return best, best_auc"
   ]
  },
  {
   "cell_type": "markdown",
   "id": "39fc5d7e",
   "metadata": {},
   "source": [
    "## Get best model"
   ]
  },
  {
   "cell_type": "code",
   "execution_count": 29,
   "id": "f296ce7f-3271-49ba-a512-c6ddeb4579d7",
   "metadata": {},
   "outputs": [],
   "source": [
    "models = [\n",
    "    DecisionTreeClassifier(),\n",
    "    KNeighborsClassifier(),\n",
    "    LogisticRegression(max_iter=1000),\n",
    "    SVC(kernel='linear', probability=True),\n",
    "    GaussianNB(),\n",
    "    RandomForestClassifier(),\n",
    "    GradientBoostingClassifier(),\n",
    "    BaggingClassifier()\n",
    "]"
   ]
  },
  {
   "cell_type": "code",
   "execution_count": 30,
   "id": "30920d98",
   "metadata": {},
   "outputs": [
    {
     "name": "stdout",
     "output_type": "stream",
     "text": [
      "Model: DecisionTreeClassifier\t auc: 0.7845744680851064\n",
      "Model: KNeighborsClassifier\t auc: 0.7822695035460994\n",
      "Model: LogisticRegression\t auc: 0.8457446808510638\n",
      "Model: SVC\t auc: 0.8368794326241135\n",
      "Model: GaussianNB\t auc: 0.7319148936170213\n",
      "Model: RandomForestClassifier\t auc: 0.9067375886524822\n",
      "Model: GradientBoostingClassifier\t auc: 0.8822695035460992\n",
      "Model: BaggingClassifier\t auc: 0.8921985815602836\n"
     ]
    },
    {
     "data": {
      "text/plain": [
       "(RandomForestClassifier(), 0.9067375886524822)"
      ]
     },
     "execution_count": 30,
     "metadata": {},
     "output_type": "execute_result"
    }
   ],
   "source": [
    "model, auc = get_best_model(X_all,Y_all, models)\n",
    "model, auc"
   ]
  },
  {
   "cell_type": "markdown",
   "id": "b4292402",
   "metadata": {},
   "source": [
    "## Train model"
   ]
  },
  {
   "cell_type": "code",
   "execution_count": null,
   "id": "71521142",
   "metadata": {},
   "outputs": [],
   "source": [
    "sm = SMOTE(random_state=42)\n",
    "X_train, Y_train = sm.fit_resample(X_all, Y_all)\n",
    "\n",
    "model.fit(X_train, Y_train)"
   ]
  },
  {
   "cell_type": "markdown",
   "id": "a2602464-1a26-4c29-a353-6f4df035c4df",
   "metadata": {},
   "source": [
    "# Save result"
   ]
  },
  {
   "cell_type": "code",
   "execution_count": 144,
   "id": "db2bb3ad-9fa9-450d-9c13-19ba9ad38f7d",
   "metadata": {},
   "outputs": [],
   "source": [
    "def saveModel(model):\n",
    "    test = pd.read_csv(\"data/final_loan_test.csv\")\n",
    "    X = test.drop(columns=[\"loan_id\",\"loan_success\"])\n",
    "    scaler.fit(X)\n",
    "    X = scaler.transform(X)\n",
    "    Y = model.predict_proba(X)\n",
    "    test[\"loan_success\"] = pd.DataFrame(Y)[0]\n",
    "    file_name = \"(\"+str(int(auc*10000)/100.0)+\")\"+datetime.now().strftime(\"%H:%M_%Y.%m.%d\")+\"_\"+model.__class__.__name__+\"_prediction.csv\"\n",
    "    test[[\"loan_id\",\"loan_success\"]].rename(columns={\"loan_id\":\"Id\",\"loan_success\":\"Predicted\"}).to_csv(\"predictions/\"+file_name,index=False)\n",
    "    print(file_name+\" saved successfully\")"
   ]
  },
  {
   "cell_type": "code",
   "execution_count": 145,
   "id": "d7e87503",
   "metadata": {},
   "outputs": [
    {
     "name": "stdout",
     "output_type": "stream",
     "text": [
      "(99.82)16:04_2021.12.10_RandomForestClassifier_prediction.csv saved successfully\n"
     ]
    }
   ],
   "source": [
    "if type(model) == list:\n",
    "    for m in model:\n",
    "        saveModel(m)\n",
    "else:\n",
    "    saveModel(model)"
   ]
  }
 ],
 "metadata": {
  "kernelspec": {
   "display_name": "Python 3 (ipykernel)",
   "language": "python",
   "name": "python3"
  },
  "language_info": {
   "codemirror_mode": {
    "name": "ipython",
    "version": 3
   },
   "file_extension": ".py",
   "mimetype": "text/x-python",
   "name": "python",
   "nbconvert_exporter": "python",
   "pygments_lexer": "ipython3",
   "version": "3.8.10"
  }
 },
 "nbformat": 4,
 "nbformat_minor": 5
}
