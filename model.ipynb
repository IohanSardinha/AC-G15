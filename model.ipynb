{
 "cells": [
  {
   "cell_type": "code",
   "execution_count": 80,
   "id": "b7444891-bbd8-447d-8fbb-39834da4fd45",
   "metadata": {},
   "outputs": [],
   "source": [
    "%matplotlib inline\n",
    "import matplotlib.pyplot as plt\n",
    "import pandas as pd\n",
    "import numpy as np\n",
    "from sklearn.model_selection import train_test_split\n",
    "from sklearn.preprocessing import StandardScaler\n",
    "from sklearn.neighbors import KNeighborsClassifier\n",
    "from sklearn.metrics import classification_report\n",
    "from sklearn.linear_model import LogisticRegression\n",
    "from sklearn.svm import SVC\n",
    "from sklearn.tree import DecisionTreeClassifier\n",
    "from sklearn.naive_bayes import GaussianNB"
   ]
  },
  {
   "cell_type": "code",
   "execution_count": 54,
   "id": "bc5b4cf4-9ffa-4811-a8fe-456561c309dd",
   "metadata": {},
   "outputs": [],
   "source": [
    "scaler = StandardScaler()\n",
    "train = pd.read_csv(\"data/final_loan_train.csv\")\n",
    "X_all = train.drop(columns=[\"loan_id\",\"loan_success\"])\n",
    "Y_all = train[\"loan_success\"]\n",
    "split_size = 0.3\n",
    "X_train, X_test, Y_train, Y_test = train_test_split(X_all, Y_all,test_size=split_size, random_state=42, stratify=Y_all)\n",
    "\n",
    "scaler.fit(X_train)\n",
    "X_train = scaler.transform(X_train)\n",
    "X_test = scaler.transform(X_test)"
   ]
  },
  {
   "cell_type": "markdown",
   "id": "428dcdf6-0c41-4e68-9618-c1c7f42889d2",
   "metadata": {},
   "source": [
    "## Decision Tree"
   ]
  },
  {
   "cell_type": "code",
   "execution_count": 79,
   "id": "d9e7207d-b5e7-4c20-82be-35833d37263a",
   "metadata": {},
   "outputs": [
    {
     "name": "stdout",
     "output_type": "stream",
     "text": [
      "              precision    recall  f1-score   support\n",
      "\n",
      "          -1       0.43      0.43      0.43        14\n",
      "           1       0.91      0.91      0.91        85\n",
      "\n",
      "    accuracy                           0.84        99\n",
      "   macro avg       0.67      0.67      0.67        99\n",
      "weighted avg       0.84      0.84      0.84        99\n",
      "\n"
     ]
    }
   ],
   "source": [
    "decisionTree = DecisionTreeClassifier()\n",
    "decisionTree.fit(X_train, Y_train)\n",
    "Y_pred = decisionTree.predict(X_test)\n",
    "print(classification_report(Y_test,Y_pred))"
   ]
  },
  {
   "cell_type": "markdown",
   "id": "28d2798f-7bc6-4256-9af9-bef126ca6559",
   "metadata": {
    "tags": []
   },
   "source": [
    "## KNN"
   ]
  },
  {
   "cell_type": "code",
   "execution_count": 38,
   "id": "16f84d23-f70b-4297-a4fb-60fd4336c6b8",
   "metadata": {},
   "outputs": [
    {
     "name": "stdout",
     "output_type": "stream",
     "text": [
      "              precision    recall  f1-score   support\n",
      "\n",
      "          -1       0.00      0.00      0.00        14\n",
      "           1       0.86      0.98      0.91        85\n",
      "\n",
      "    accuracy                           0.84        99\n",
      "   macro avg       0.43      0.49      0.46        99\n",
      "weighted avg       0.73      0.84      0.78        99\n",
      "\n"
     ]
    }
   ],
   "source": [
    "knn = KNeighborsClassifier(n_neighbors=5)\n",
    "knn.fit(X_train, Y_train)\n",
    "Y_pred = knn.predict(X_test)\n",
    "print(classification_report(Y_test,Y_pred))"
   ]
  },
  {
   "cell_type": "code",
   "execution_count": 42,
   "id": "5ab49242-ff39-4fc8-96d9-ee4da5a3e5b7",
   "metadata": {},
   "outputs": [
    {
     "name": "stdout",
     "output_type": "stream",
     "text": [
      "              precision    recall  f1-score   support\n",
      "\n",
      "          -1       0.42      0.36      0.38        14\n",
      "           1       0.90      0.92      0.91        85\n",
      "\n",
      "    accuracy                           0.84        99\n",
      "   macro avg       0.66      0.64      0.65        99\n",
      "weighted avg       0.83      0.84      0.83        99\n",
      "\n"
     ]
    }
   ],
   "source": [
    "logreg = LogisticRegression()\n",
    "logreg.fit(X_train, Y_train)\n",
    "Y_pred = logreg.predict(X_test)\n",
    "print(classification_report(Y_test,Y_pred))"
   ]
  },
  {
   "cell_type": "markdown",
   "id": "e84ffc50-157d-4d59-a3c3-636843636ca4",
   "metadata": {},
   "source": [
    "## SVM"
   ]
  },
  {
   "cell_type": "code",
   "execution_count": 75,
   "id": "e6833036-03f9-4601-ae62-f3a4cc138cd0",
   "metadata": {},
   "outputs": [
    {
     "name": "stdout",
     "output_type": "stream",
     "text": [
      "              precision    recall  f1-score   support\n",
      "\n",
      "          -1       0.36      0.36      0.36        14\n",
      "           1       0.89      0.89      0.89        85\n",
      "\n",
      "    accuracy                           0.82        99\n",
      "   macro avg       0.63      0.63      0.63        99\n",
      "weighted avg       0.82      0.82      0.82        99\n",
      "\n"
     ]
    }
   ],
   "source": [
    "svm = SVC(kernel='linear')\n",
    "svm.fit(X_train, Y_train)\n",
    "Y_pred = svm.predict(X_test)\n",
    "print(classification_report(Y_test,Y_pred))"
   ]
  },
  {
   "cell_type": "markdown",
   "id": "ce50e009-5059-4af8-ac49-7f7fe6ed45e3",
   "metadata": {},
   "source": [
    "## Naive Bayes"
   ]
  },
  {
   "cell_type": "code",
   "execution_count": 81,
   "id": "455b9b65-c062-475c-b81a-f26f66c66a1f",
   "metadata": {},
   "outputs": [
    {
     "name": "stdout",
     "output_type": "stream",
     "text": [
      "              precision    recall  f1-score   support\n",
      "\n",
      "          -1       0.14      1.00      0.25        14\n",
      "           1       1.00      0.02      0.05        85\n",
      "\n",
      "    accuracy                           0.16        99\n",
      "   macro avg       0.57      0.51      0.15        99\n",
      "weighted avg       0.88      0.16      0.08        99\n",
      "\n"
     ]
    }
   ],
   "source": [
    "gnb = GaussianNB()\n",
    "gnb.fit(X_train, Y_train)\n",
    "Y_pred = gnb.predict(X_test)\n",
    "print(classification_report(Y_test,Y_pred))"
   ]
  },
  {
   "cell_type": "markdown",
   "id": "a2602464-1a26-4c29-a353-6f4df035c4df",
   "metadata": {},
   "source": [
    "# Save result"
   ]
  },
  {
   "cell_type": "code",
   "execution_count": 82,
   "id": "188d392e-423a-421f-9f15-60bc7f47eac2",
   "metadata": {},
   "outputs": [],
   "source": [
    "model = decisionTree"
   ]
  },
  {
   "cell_type": "code",
   "execution_count": 83,
   "id": "db2bb3ad-9fa9-450d-9c13-19ba9ad38f7d",
   "metadata": {},
   "outputs": [],
   "source": [
    "test = pd.read_csv(\"data/final_loan_test.csv\")\n",
    "X = test.drop(columns=[\"loan_id\",\"loan_success\"])\n",
    "scaler.fit(X)\n",
    "X = scaler.transform(X)\n",
    "Y = model.predict(X)\n",
    "test[\"loan_success\"] = Y\n",
    "test[[\"loan_id\",\"loan_success\"]].rename(columns={\"loan_id\":\"Id\",\"loan_success\":\"Predicted\"}).to_csv(\"prediction.csv\",index=False)"
   ]
  }
 ],
 "metadata": {
  "kernelspec": {
   "display_name": "Python 3 (ipykernel)",
   "language": "python",
   "name": "python3"
  },
  "language_info": {
   "codemirror_mode": {
    "name": "ipython",
    "version": 3
   },
   "file_extension": ".py",
   "mimetype": "text/x-python",
   "name": "python",
   "nbconvert_exporter": "python",
   "pygments_lexer": "ipython3",
   "version": "3.8.10"
  }
 },
 "nbformat": 4,
 "nbformat_minor": 5
}
