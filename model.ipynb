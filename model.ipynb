{
 "cells": [
  {
   "cell_type": "markdown",
   "id": "930832d8-8a93-4820-a625-af7e7dd2da16",
   "metadata": {
    "tags": []
   },
   "source": [
    "### TO DO\n",
    "## Criar novos modelos\n",
    "\n",
    "    Cross Validation\n",
    "    Random Forest\n",
    "    XGBoost\n",
    "    Bagging\n",
    "    Neural Net\n",
    "\n",
    "## Métricas\n",
    "    Para entender direto os resultados das predições dos modelos\n",
    "\n",
    "## Analisar os dados mais profundamente\n",
    "    Quais são melhores para continuar na modelação\n",
    "    \n",
    "    Quais podem ser alterados/ juntados\n",
    "    \n",
    "    Feature selection\n",
    "    \n",
    "## Analiar os modelos\n",
    "    Analisar os parâmetros dos modelos\n",
    "    \n",
    "    Analisar mais modelos e o porque de usá-los\n",
    "    \n",
    "    Parameter tuning\n",
    "    "
   ]
  },
  {
   "cell_type": "code",
   "execution_count": 13,
   "id": "b7444891-bbd8-447d-8fbb-39834da4fd45",
   "metadata": {},
   "outputs": [],
   "source": [
    "%matplotlib inline\n",
    "from datetime import datetime\n",
    "import matplotlib.pyplot as plt\n",
    "import pandas as pd\n",
    "import numpy as np\n",
    "from sklearn import metrics\n",
    "from sklearn.model_selection import train_test_split\n",
    "from sklearn.preprocessing import StandardScaler\n",
    "from sklearn.neighbors import KNeighborsClassifier\n",
    "from sklearn.metrics import classification_report\n",
    "from sklearn.linear_model import LogisticRegression\n",
    "from sklearn.svm import SVC\n",
    "from sklearn.tree import DecisionTreeClassifier\n",
    "from sklearn.naive_bayes import GaussianNB"
   ]
  },
  {
   "cell_type": "code",
   "execution_count": 2,
   "id": "bc5b4cf4-9ffa-4811-a8fe-456561c309dd",
   "metadata": {},
   "outputs": [],
   "source": [
    "scaler = StandardScaler()\n",
    "train = pd.read_csv(\"data/final_loan_train.csv\")\n",
    "X_all = train.drop(columns=[\"loan_id\",\"loan_success\"])\n",
    "Y_all = train[\"loan_success\"]\n",
    "split_size = 0.3\n",
    "X_train, X_test, Y_train, Y_test = train_test_split(X_all, Y_all,test_size=split_size, random_state=42, stratify=Y_all)\n",
    "\n",
    "scaler.fit(X_train)\n",
    "X_train = scaler.transform(X_train)\n",
    "X_test = scaler.transform(X_test)"
   ]
  },
  {
   "cell_type": "code",
   "execution_count": 3,
   "id": "f296ce7f-3271-49ba-a512-c6ddeb4579d7",
   "metadata": {},
   "outputs": [],
   "source": [
    "models = {}"
   ]
  },
  {
   "cell_type": "markdown",
   "id": "428dcdf6-0c41-4e68-9618-c1c7f42889d2",
   "metadata": {},
   "source": [
    "## Decision Tree"
   ]
  },
  {
   "cell_type": "code",
   "execution_count": 4,
   "id": "d9e7207d-b5e7-4c20-82be-35833d37263a",
   "metadata": {},
   "outputs": [
    {
     "data": {
      "text/plain": [
       "0.6613445378151261"
      ]
     },
     "execution_count": 4,
     "metadata": {},
     "output_type": "execute_result"
    }
   ],
   "source": [
    "decisionTree = DecisionTreeClassifier()\n",
    "decisionTree.fit(X_train, Y_train)\n",
    "Y_pred = decisionTree.predict_proba(X_test)\n",
    "\n",
    "fpr, tpr, thresholds = metrics.roc_curve(Y_test, pd.DataFrame(Y_pred)[0].tolist(), pos_label=-1)\n",
    "auc = metrics.auc(fpr, tpr)\n",
    "models[auc] = decisionTree\n",
    "auc"
   ]
  },
  {
   "cell_type": "markdown",
   "id": "28d2798f-7bc6-4256-9af9-bef126ca6559",
   "metadata": {
    "tags": []
   },
   "source": [
    "## KNN"
   ]
  },
  {
   "cell_type": "code",
   "execution_count": 5,
   "id": "16f84d23-f70b-4297-a4fb-60fd4336c6b8",
   "metadata": {},
   "outputs": [
    {
     "data": {
      "text/plain": [
       "0.48991596638655466"
      ]
     },
     "execution_count": 5,
     "metadata": {},
     "output_type": "execute_result"
    }
   ],
   "source": [
    "knn = KNeighborsClassifier(n_neighbors=5)\n",
    "knn.fit(X_train, Y_train)\n",
    "Y_pred = knn.predict_proba(X_test)\n",
    "fpr, tpr, thresholds = metrics.roc_curve(Y_test, pd.DataFrame(Y_pred)[0].tolist(), pos_label=-1)\n",
    "auc = metrics.auc(fpr, tpr)\n",
    "models[auc] = knn\n",
    "auc"
   ]
  },
  {
   "cell_type": "markdown",
   "id": "a1c38791-ddbb-46f0-9342-0f1135363242",
   "metadata": {},
   "source": [
    "## Logistic Regression"
   ]
  },
  {
   "cell_type": "code",
   "execution_count": 6,
   "id": "5ab49242-ff39-4fc8-96d9-ee4da5a3e5b7",
   "metadata": {},
   "outputs": [
    {
     "data": {
      "text/plain": [
       "0.6310924369747899"
      ]
     },
     "execution_count": 6,
     "metadata": {},
     "output_type": "execute_result"
    }
   ],
   "source": [
    "logreg = LogisticRegression()\n",
    "logreg.fit(X_train, Y_train)\n",
    "Y_pred = logreg.predict_proba(X_test)\n",
    "fpr, tpr, thresholds = metrics.roc_curve(Y_test, pd.DataFrame(Y_pred)[0].tolist(), pos_label=-1)\n",
    "auc = metrics.auc(fpr, tpr)\n",
    "models[auc] = logreg\n",
    "auc"
   ]
  },
  {
   "cell_type": "markdown",
   "id": "e84ffc50-157d-4d59-a3c3-636843636ca4",
   "metadata": {},
   "source": [
    "## SVM"
   ]
  },
  {
   "cell_type": "code",
   "execution_count": 7,
   "id": "e6833036-03f9-4601-ae62-f3a4cc138cd0",
   "metadata": {},
   "outputs": [
    {
     "data": {
      "text/plain": [
       "0.6184873949579832"
      ]
     },
     "execution_count": 7,
     "metadata": {},
     "output_type": "execute_result"
    }
   ],
   "source": [
    "svm = SVC(kernel='linear', probability=True)\n",
    "svm.fit(X_train, Y_train)\n",
    "Y_pred = svm.predict_proba(X_test)\n",
    "fpr, tpr, thresholds = metrics.roc_curve(Y_test, pd.DataFrame(Y_pred)[0].tolist(), pos_label=-1)\n",
    "auc = metrics.auc(fpr, tpr)\n",
    "models[auc] = svm\n",
    "auc"
   ]
  },
  {
   "cell_type": "markdown",
   "id": "ce50e009-5059-4af8-ac49-7f7fe6ed45e3",
   "metadata": {},
   "source": [
    "## Naive Bayes"
   ]
  },
  {
   "cell_type": "code",
   "execution_count": 8,
   "id": "455b9b65-c062-475c-b81a-f26f66c66a1f",
   "metadata": {},
   "outputs": [
    {
     "data": {
      "text/plain": [
       "0.5638655462184874"
      ]
     },
     "execution_count": 8,
     "metadata": {},
     "output_type": "execute_result"
    }
   ],
   "source": [
    "gnb = GaussianNB()\n",
    "gnb.fit(X_train, Y_train)\n",
    "Y_pred = gnb.predict(X_test)\n",
    "Y_pred = gnb.predict_proba(X_test)\n",
    "fpr, tpr, thresholds = metrics.roc_curve(Y_test, pd.DataFrame(Y_pred)[0].tolist(), pos_label=-1)\n",
    "auc = metrics.auc(fpr, tpr)\n",
    "models[auc] = gnb\n",
    "auc"
   ]
  },
  {
   "cell_type": "markdown",
   "id": "a2602464-1a26-4c29-a353-6f4df035c4df",
   "metadata": {},
   "source": [
    "# Save result"
   ]
  },
  {
   "cell_type": "code",
   "execution_count": 12,
   "id": "71b2afe6-4e96-4dbc-bbd7-ee2f0964d125",
   "metadata": {},
   "outputs": [
    {
     "data": {
      "text/plain": [
       "DecisionTreeClassifier()"
      ]
     },
     "execution_count": 12,
     "metadata": {},
     "output_type": "execute_result"
    }
   ],
   "source": [
    "maxauc = max(models)\n",
    "model = models[maxauc]\n",
    "model"
   ]
  },
  {
   "cell_type": "code",
   "execution_count": 19,
   "id": "db2bb3ad-9fa9-450d-9c13-19ba9ad38f7d",
   "metadata": {},
   "outputs": [
    {
     "data": {
      "text/plain": [
       "'(66.13)15:36_2021.12.03_DecisionTreeClassifier_prediction.csv saved successfully'"
      ]
     },
     "execution_count": 19,
     "metadata": {},
     "output_type": "execute_result"
    }
   ],
   "source": [
    "test = pd.read_csv(\"data/final_loan_test.csv\")\n",
    "X = test.drop(columns=[\"loan_id\",\"loan_success\"])\n",
    "scaler.fit(X)\n",
    "X = scaler.transform(X)\n",
    "Y = model.predict_proba(X)\n",
    "test[\"loan_success\"] = pd.DataFrame(Y)[0]\n",
    "file_name = \"(\"+str(int(maxauc*10000)/100.0)+\")\"+datetime.now().strftime(\"%H:%M_%Y.%m.%d\")+\"_\"+model.__class__.__name__+\"_prediction.csv\"\n",
    "test[[\"loan_id\",\"loan_success\"]].rename(columns={\"loan_id\":\"Id\",\"loan_success\":\"Predicted\"}).to_csv(\"predictions/\"+file_name,index=False)\n",
    "file_name+\" saved successfully\""
   ]
  }
 ],
 "metadata": {
  "kernelspec": {
   "display_name": "Python 3 (ipykernel)",
   "language": "python",
   "name": "python3"
  },
  "language_info": {
   "codemirror_mode": {
    "name": "ipython",
    "version": 3
   },
   "file_extension": ".py",
   "mimetype": "text/x-python",
   "name": "python",
   "nbconvert_exporter": "python",
   "pygments_lexer": "ipython3",
   "version": "3.8.10"
  }
 },
 "nbformat": 4,
 "nbformat_minor": 5
}
