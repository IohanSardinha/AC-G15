{
 "cells": [
  {
   "cell_type": "code",
   "execution_count": 1,
   "id": "7f2f445e-afa4-4de5-a152-bba5ea32393f",
   "metadata": {},
   "outputs": [],
   "source": [
    "%matplotlib inline\n",
    "import matplotlib.pyplot as plt\n",
    "from math import sin\n",
    "import pandas as pd\n",
    "import os\n",
    "import numpy as np"
   ]
  },
  {
   "cell_type": "code",
   "execution_count": 2,
   "id": "0be02477-f1a7-42b2-bec5-a44fa98df4db",
   "metadata": {},
   "outputs": [
    {
     "name": "stderr",
     "output_type": "stream",
     "text": [
      "/home/iohan-sardinha/.local/lib/python3.8/site-packages/IPython/core/interactiveshell.py:3444: DtypeWarning: Columns (8) have mixed types.Specify dtype option on import or set low_memory=False.\n",
      "  exec(code_obj, self.user_global_ns, self.user_ns)\n"
     ]
    }
   ],
   "source": [
    "accountDB = pd.read_csv('data/account.csv', sep=\";\")\n",
    "cardDB = pd.read_csv('data/card_train.csv', sep=\";\")\n",
    "clientDB = pd.read_csv('data/client.csv', sep=\";\")\n",
    "dispositionDB = pd.read_csv('data/disp.csv', sep=\";\")\n",
    "districtDB = pd.read_csv('data/district.csv', sep=\";\")\n",
    "loanDB = pd.read_csv('data/loan_train.csv', sep=\";\")\n",
    "transactionDB = pd.read_csv('data/trans_train.csv', sep=\";\")"
   ]
  },
  {
   "cell_type": "code",
   "execution_count": 13,
   "id": "7bd17b19-6a52-44fa-90e0-905de62ee98e",
   "metadata": {},
   "outputs": [
    {
     "data": {
      "text/plain": [
       "bank\n",
       "AB    7666\n",
       "CD    7009\n",
       "EF    7878\n",
       "GH    7886\n",
       "IJ    7536\n",
       "KL    7397\n",
       "MN    6626\n",
       "OP    7595\n",
       "QR    7413\n",
       "ST    8114\n",
       "UV    7618\n",
       "WX    7033\n",
       "YZ    7471\n",
       "dtype: int64"
      ]
     },
     "execution_count": 13,
     "metadata": {},
     "output_type": "execute_result"
    }
   ],
   "source": [
    "transactionDB[transactionDB[\"bank\"].notnull()].pivot_table(columns=\"bank\", aggfunc=\"size\")"
   ]
  }
 ],
 "metadata": {
  "kernelspec": {
   "display_name": "Python 3 (ipykernel)",
   "language": "python",
   "name": "python3"
  },
  "language_info": {
   "codemirror_mode": {
    "name": "ipython",
    "version": 3
   },
   "file_extension": ".py",
   "mimetype": "text/x-python",
   "name": "python",
   "nbconvert_exporter": "python",
   "pygments_lexer": "ipython3",
   "version": "3.8.10"
  }
 },
 "nbformat": 4,
 "nbformat_minor": 5
}
