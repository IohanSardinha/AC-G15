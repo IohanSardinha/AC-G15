{
 "cells": [
  {
   "cell_type": "markdown",
   "id": "930832d8-8a93-4820-a625-af7e7dd2da16",
   "metadata": {
    "tags": []
   },
   "source": [
    "### TO DO\n",
    "## Criar novos modelos\n",
    "\n",
    "    Cross Validation\n",
    "    \n",
    "    testar parametrizações\n",
    "    SMOTE\n",
    "\n",
    "## Métricas\n",
    "    Para entender direto os resultados das predições dos modelos\n",
    "\n",
    "## Analisar os dados mais profundamente\n",
    "    Quais são melhores para continuar na modelação\n",
    "    \n",
    "    Quais podem ser alterados/ juntados\n",
    "    \n",
    "    Feature selection\n",
    "    \n",
    "## Analiar os modelos\n",
    "    Analisar os parâmetros dos modelos\n",
    "    \n",
    "    Analisar mais modelos e o porque de usá-los\n",
    "    \n",
    "    Parameter tuning\n",
    "    "
   ]
  },
  {
   "cell_type": "code",
   "execution_count": 3,
   "id": "b7444891-bbd8-447d-8fbb-39834da4fd45",
   "metadata": {},
   "outputs": [],
   "source": [
    "%matplotlib inline\n",
    "from datetime import datetime\n",
    "import matplotlib.pyplot as plt\n",
    "import pandas as pd\n",
    "import numpy as np\n",
    "from sklearn import metrics\n",
    "from sklearn.model_selection import train_test_split\n",
    "from sklearn.preprocessing import StandardScaler, OneHotEncoder, LabelEncoder\n",
    "from sklearn.neighbors import KNeighborsClassifier\n",
    "from sklearn.metrics import classification_report\n",
    "from sklearn.linear_model import LogisticRegression\n",
    "from sklearn.svm import SVC\n",
    "from sklearn.tree import DecisionTreeClassifier\n",
    "from sklearn.naive_bayes import GaussianNB\n",
    "from sklearn.ensemble import RandomForestClassifier\n",
    "from sklearn.ensemble import GradientBoostingClassifier\n",
    "from sklearn.ensemble import BaggingClassifier\n",
    "from sklearn.neural_network import MLPClassifier\n",
    "from sklearn.compose import make_column_transformer\n",
    "from imblearn.over_sampling import SMOTE "
   ]
  },
  {
   "cell_type": "code",
   "execution_count": 4,
   "id": "bc5b4cf4-9ffa-4811-a8fe-456561c309dd",
   "metadata": {},
   "outputs": [],
   "source": [
    "train = pd.read_csv(\"data/final_loan_train.csv\")\n",
    "X_all = train.drop(columns=[\"loan_id\",\"loan_success\"])\n",
    "Y_all = train[\"loan_success\"]\n",
    "\n",
    "categorical_cols = [col for col in X_all.columns if X_all[col].dtype == object]\n",
    "scalar_cols = [col for col in X_all.columns if X_all[col].dtype != object]\n",
    "\n",
    "scaler = make_column_transformer((StandardScaler(), scalar_cols),\n",
    "                                 (OneHotEncoder(), categorical_cols))\n",
    "\n",
    "scaler.fit_transform(X_all)\n",
    "X_all = scaler.transform(X_all)\n",
    "\n",
    "sm = SMOTE(random_state=42)\n",
    "X_res, Y_res = sm.fit_resample(X_all, Y_all)\n",
    "\n",
    "\n",
    "split_size = 30\n",
    "#X_train, X_test, Y_train, Y_test = train_test_split(X_all, Y_all,test_size=split_size, random_state=42, stratify=Y_all)"
   ]
  },
  {
   "cell_type": "code",
   "execution_count": 5,
   "id": "f296ce7f-3271-49ba-a512-c6ddeb4579d7",
   "metadata": {},
   "outputs": [],
   "source": [
    "models = {}"
   ]
  },
  {
   "cell_type": "code",
   "execution_count": 6,
   "id": "8db57591",
   "metadata": {},
   "outputs": [],
   "source": [
    "def cross_validation_auc(X, Y, model, split_size, repetitions=43, split_variation = 15):\n",
    "    aucs = []\n",
    "    best = None\n",
    "    for i in range(repetitions):\n",
    "        for j in range(split_size,split_variation, -1):\n",
    "            X_train, X_test, Y_train, Y_test = train_test_split(X, Y,test_size=j/100, random_state=i, stratify=Y)\n",
    "            model.fit(X_train, Y_train)\n",
    "            Y_pred = model.predict_proba(X_test)\n",
    "            fpr, tpr, _ = metrics.roc_curve(Y_test, pd.DataFrame(Y_pred)[0].tolist(), pos_label=-1)\n",
    "            auc = metrics.auc(fpr, tpr)\n",
    "            if len(aucs) == 0 or auc > max(aucs):\n",
    "                best = model\n",
    "            aucs.append(auc)\n",
    "    return (best, aucs)"
   ]
  },
  {
   "cell_type": "code",
   "execution_count": 7,
   "id": "3d04e4d5",
   "metadata": {},
   "outputs": [],
   "source": [
    "def add_to_dict(key, val):\n",
    "    if key in models.keys():\n",
    "        if type(models[key]) == list:\n",
    "            models[key].append(val)\n",
    "        else:\n",
    "            models[key] = [models[key], val]\n",
    "    else:\n",
    "        models[key] = val"
   ]
  },
  {
   "cell_type": "markdown",
   "id": "428dcdf6-0c41-4e68-9618-c1c7f42889d2",
   "metadata": {},
   "source": [
    "## Decision Tree"
   ]
  },
  {
   "cell_type": "code",
   "execution_count": 8,
   "id": "d9e7207d-b5e7-4c20-82be-35833d37263a",
   "metadata": {},
   "outputs": [
    {
     "data": {
      "text/plain": [
       "0.9411764705882353"
      ]
     },
     "execution_count": 8,
     "metadata": {},
     "output_type": "execute_result"
    }
   ],
   "source": [
    "dtree, aucs = cross_validation_auc(X_res, Y_res, DecisionTreeClassifier(), split_size)\n",
    "add_to_dict(max(aucs), dtree)\n",
    "max(aucs)"
   ]
  },
  {
   "cell_type": "code",
   "execution_count": 9,
   "id": "5271ee6f",
   "metadata": {},
   "outputs": [
    {
     "data": {
      "text/plain": [
       "0.966425120772947"
      ]
     },
     "execution_count": 9,
     "metadata": {},
     "output_type": "execute_result"
    }
   ],
   "source": [
    "model = DecisionTreeClassifier(random_state=0, max_depth=5)\n",
    "dtree, aucs = cross_validation_auc(X_res, Y_res, model, split_size)\n",
    "add_to_dict(max(aucs), dtree)\n",
    "max(aucs)"
   ]
  },
  {
   "cell_type": "code",
   "execution_count": 10,
   "id": "3ec593f7",
   "metadata": {},
   "outputs": [
    {
     "data": {
      "text/plain": [
       "0.9053140096618357"
      ]
     },
     "execution_count": 10,
     "metadata": {},
     "output_type": "execute_result"
    }
   ],
   "source": [
    "model = DecisionTreeClassifier(random_state=0, max_depth=3)\n",
    "dtree, aucs = cross_validation_auc(X_res, Y_res, model, split_size)\n",
    "add_to_dict(max(aucs), dtree)\n",
    "max(aucs)"
   ]
  },
  {
   "cell_type": "code",
   "execution_count": 11,
   "id": "48172861",
   "metadata": {},
   "outputs": [
    {
     "data": {
      "text/plain": [
       "0.8307291666666666"
      ]
     },
     "execution_count": 11,
     "metadata": {},
     "output_type": "execute_result"
    }
   ],
   "source": [
    "model = DecisionTreeClassifier(random_state=0, max_depth=2)\n",
    "dtree, aucs = cross_validation_auc(X_res, Y_res, model, split_size)\n",
    "add_to_dict(max(aucs), dtree)\n",
    "max(aucs)"
   ]
  },
  {
   "cell_type": "code",
   "execution_count": 12,
   "id": "c31c65ea",
   "metadata": {},
   "outputs": [
    {
     "data": {
      "text/plain": [
       "0.9572463768115942"
      ]
     },
     "execution_count": 12,
     "metadata": {},
     "output_type": "execute_result"
    }
   ],
   "source": [
    "model = DecisionTreeClassifier(random_state=0, max_depth=4)\n",
    "dtree, aucs = cross_validation_auc(X_res, Y_res, model, split_size)\n",
    "add_to_dict(max(aucs), dtree)\n",
    "max(aucs)"
   ]
  },
  {
   "cell_type": "markdown",
   "id": "28d2798f-7bc6-4256-9af9-bef126ca6559",
   "metadata": {
    "tags": []
   },
   "source": [
    "## KNN"
   ]
  },
  {
   "cell_type": "code",
   "execution_count": 13,
   "id": "16f84d23-f70b-4297-a4fb-60fd4336c6b8",
   "metadata": {},
   "outputs": [
    {
     "data": {
      "text/plain": [
       "0.979951690821256"
      ]
     },
     "execution_count": 13,
     "metadata": {},
     "output_type": "execute_result"
    }
   ],
   "source": [
    "knn, aucs = cross_validation_auc(X_res, Y_res, KNeighborsClassifier(), split_size)\n",
    "add_to_dict(max(aucs), knn)\n",
    "max(aucs)"
   ]
  },
  {
   "cell_type": "code",
   "execution_count": 14,
   "id": "bb66c375",
   "metadata": {},
   "outputs": [
    {
     "data": {
      "text/plain": [
       "0.9565217391304348"
      ]
     },
     "execution_count": 14,
     "metadata": {},
     "output_type": "execute_result"
    }
   ],
   "source": [
    "model = KNeighborsClassifier(20)\n",
    "knn, aucs = cross_validation_auc(X_res, Y_res, model, split_size)\n",
    "add_to_dict(max(aucs), knn)\n",
    "max(aucs)"
   ]
  },
  {
   "cell_type": "code",
   "execution_count": 15,
   "id": "3c871e6b",
   "metadata": {},
   "outputs": [
    {
     "data": {
      "text/plain": [
       "0.9688581314878892"
      ]
     },
     "execution_count": 15,
     "metadata": {},
     "output_type": "execute_result"
    }
   ],
   "source": [
    "model = KNeighborsClassifier(2)\n",
    "knn, aucs = cross_validation_auc(X_res, Y_res, model, split_size)\n",
    "add_to_dict(max(aucs), knn)\n",
    "max(aucs)"
   ]
  },
  {
   "cell_type": "code",
   "execution_count": 16,
   "id": "7900df00",
   "metadata": {},
   "outputs": [
    {
     "data": {
      "text/plain": [
       "0.9814009661835749"
      ]
     },
     "execution_count": 16,
     "metadata": {},
     "output_type": "execute_result"
    }
   ],
   "source": [
    "model = KNeighborsClassifier(10)\n",
    "knn, aucs = cross_validation_auc(X_res, Y_res, model, split_size)\n",
    "add_to_dict(max(aucs), knn)\n",
    "max(aucs)"
   ]
  },
  {
   "cell_type": "markdown",
   "id": "a1c38791-ddbb-46f0-9342-0f1135363242",
   "metadata": {},
   "source": [
    "## Logistic Regression"
   ]
  },
  {
   "cell_type": "code",
   "execution_count": 17,
   "id": "5ab49242-ff39-4fc8-96d9-ee4da5a3e5b7",
   "metadata": {},
   "outputs": [
    {
     "data": {
      "text/plain": [
       "0.9534050179211468"
      ]
     },
     "execution_count": 17,
     "metadata": {},
     "output_type": "execute_result"
    }
   ],
   "source": [
    "logReg, aucs = cross_validation_auc(X_res, Y_res, LogisticRegression(max_iter=500), split_size)\n",
    "add_to_dict(max(aucs), logReg)\n",
    "max(aucs)"
   ]
  },
  {
   "cell_type": "markdown",
   "id": "e84ffc50-157d-4d59-a3c3-636843636ca4",
   "metadata": {},
   "source": [
    "## SVM"
   ]
  },
  {
   "cell_type": "code",
   "execution_count": 18,
   "id": "e6833036-03f9-4601-ae62-f3a4cc138cd0",
   "metadata": {},
   "outputs": [
    {
     "data": {
      "text/plain": [
       "0.9483091787439615"
      ]
     },
     "execution_count": 18,
     "metadata": {},
     "output_type": "execute_result"
    }
   ],
   "source": [
    "svm, aucs = cross_validation_auc(X_res, Y_res, SVC(kernel='linear', probability=True), split_size)\n",
    "add_to_dict(max(aucs), svm)\n",
    "max(aucs)"
   ]
  },
  {
   "cell_type": "code",
   "execution_count": 19,
   "id": "2d07a2bc",
   "metadata": {},
   "outputs": [
    {
     "data": {
      "text/plain": [
       "0.9988465974625144"
      ]
     },
     "execution_count": 19,
     "metadata": {},
     "output_type": "execute_result"
    }
   ],
   "source": [
    "svm, aucs = cross_validation_auc(X_res, Y_res, SVC(kernel='poly', probability=True), split_size)\n",
    "add_to_dict(max(aucs), svm)\n",
    "max(aucs)"
   ]
  },
  {
   "cell_type": "code",
   "execution_count": 20,
   "id": "eed51606",
   "metadata": {},
   "outputs": [
    {
     "data": {
      "text/plain": [
       "0.9990338164251208"
      ]
     },
     "execution_count": 20,
     "metadata": {},
     "output_type": "execute_result"
    }
   ],
   "source": [
    "svm, aucs = cross_validation_auc(X_res, Y_res, SVC(kernel='rbf', probability=True), split_size)\n",
    "add_to_dict(max(aucs), svm)\n",
    "max(aucs)"
   ]
  },
  {
   "cell_type": "code",
   "execution_count": 26,
   "id": "73cff268",
   "metadata": {},
   "outputs": [
    {
     "data": {
      "text/plain": [
       "0.7821256038647343"
      ]
     },
     "execution_count": 26,
     "metadata": {},
     "output_type": "execute_result"
    }
   ],
   "source": [
    "svm, aucs = cross_validation_auc(X_res, Y_res, SVC(kernel='sigmoid', probability=True), split_size)\n",
    "add_to_dict(max(aucs), svm)\n",
    "max(aucs)"
   ]
  },
  {
   "cell_type": "markdown",
   "id": "ce50e009-5059-4af8-ac49-7f7fe6ed45e3",
   "metadata": {},
   "source": [
    "## Naive Bayes"
   ]
  },
  {
   "cell_type": "code",
   "execution_count": 27,
   "id": "455b9b65-c062-475c-b81a-f26f66c66a1f",
   "metadata": {},
   "outputs": [
    {
     "data": {
      "text/plain": [
       "0.8809859154929578"
      ]
     },
     "execution_count": 27,
     "metadata": {},
     "output_type": "execute_result"
    }
   ],
   "source": [
    "naive_bayes, aucs = cross_validation_auc(X_res, Y_res, GaussianNB(), split_size)\n",
    "add_to_dict(max(aucs), naive_bayes)\n",
    "max(aucs)"
   ]
  },
  {
   "cell_type": "markdown",
   "id": "64f6a00e",
   "metadata": {},
   "source": [
    "## Random Forest"
   ]
  },
  {
   "cell_type": "code",
   "execution_count": 28,
   "id": "305206ad",
   "metadata": {},
   "outputs": [
    {
     "data": {
      "text/plain": [
       "1.0"
      ]
     },
     "execution_count": 28,
     "metadata": {},
     "output_type": "execute_result"
    }
   ],
   "source": [
    "random_forest, aucs = cross_validation_auc(X_res, Y_res, RandomForestClassifier(), split_size)\n",
    "add_to_dict(max(aucs), random_forest)\n",
    "max(aucs)"
   ]
  },
  {
   "cell_type": "code",
   "execution_count": null,
   "id": "80681cd9",
   "metadata": {},
   "outputs": [],
   "source": [
    "random_forest, aucs = cross_validation_auc(X_res, Y_res, RandomForestClassifier(200), split_size)\n",
    "add_to_dict(max(aucs), random_forest)\n",
    "max(aucs)"
   ]
  },
  {
   "cell_type": "code",
   "execution_count": null,
   "id": "a582edec",
   "metadata": {},
   "outputs": [],
   "source": [
    "random_forest, aucs = cross_validation_auc(X_res, Y_res, RandomForestClassifier(50), split_size)\n",
    "add_to_dict(max(aucs), random_forest)\n",
    "max(aucs)"
   ]
  },
  {
   "cell_type": "code",
   "execution_count": null,
   "id": "75333dd3",
   "metadata": {},
   "outputs": [],
   "source": [
    "random_forest, aucs = cross_validation_auc(X_res, Y_res, RandomForestClassifier(500), split_size)\n",
    "add_to_dict(max(aucs), random_forest)\n",
    "max(aucs)"
   ]
  },
  {
   "cell_type": "markdown",
   "id": "a63350a9",
   "metadata": {},
   "source": [
    "## Gradient Boost"
   ]
  },
  {
   "cell_type": "code",
   "execution_count": null,
   "id": "e8c7556c",
   "metadata": {},
   "outputs": [],
   "source": [
    "gradient, aucs = cross_validation_auc(X_res, Y_res, GradientBoostingClassifier(), split_size)\n",
    "add_to_dict(max(aucs), gradient)\n",
    "max(aucs)"
   ]
  },
  {
   "cell_type": "code",
   "execution_count": null,
   "id": "f4ed7bf2",
   "metadata": {},
   "outputs": [],
   "source": [
    "gradient, aucs = cross_validation_auc(X_res, Y_res, GradientBoostingClassifier(1000), split_size)\n",
    "add_to_dict(max(aucs), gradient)\n",
    "max(aucs)"
   ]
  },
  {
   "cell_type": "markdown",
   "id": "39dda76b",
   "metadata": {},
   "source": [
    "## Bagging"
   ]
  },
  {
   "cell_type": "code",
   "execution_count": null,
   "id": "b7da4463",
   "metadata": {},
   "outputs": [],
   "source": [
    "bagging, aucs = cross_validation_auc(X_res, Y_res, BaggingClassifier(), split_size)\n",
    "add_to_dict(max(aucs), bagging)\n",
    "max(aucs)"
   ]
  },
  {
   "cell_type": "markdown",
   "id": "ce50e009-5059-4af8-ac49-7f7fe6ed45e3",
   "metadata": {},
   "source": [
    "## Neural Network"
   ]
  },
  {
   "cell_type": "code",
   "execution_count": null,
   "id": "455b9b65-c062-475c-b81a-f26f66c66a1f",
   "metadata": {},
   "outputs": [],
   "source": [
    "#model, aucs = cross_validation_auc(X_res, Y_res, MLPClassifier(max_iter=1000, hidden_layer_sizes=(100,5), alpha=1e-5,), split_size)\n",
    "#models[max(aucs)] = model\n",
    "#max(aucs)"
   ]
  },
  {
   "cell_type": "markdown",
   "id": "a2602464-1a26-4c29-a353-6f4df035c4df",
   "metadata": {},
   "source": [
    "# Save result"
   ]
  },
  {
   "cell_type": "code",
   "execution_count": null,
   "id": "71b2afe6-4e96-4dbc-bbd7-ee2f0964d125",
   "metadata": {},
   "outputs": [],
   "source": [
    "maxauc = max(models)\n",
    "model = models[maxauc]\n",
    "model"
   ]
  },
  {
   "cell_type": "code",
   "execution_count": null,
   "id": "db2bb3ad-9fa9-450d-9c13-19ba9ad38f7d",
   "metadata": {},
   "outputs": [],
   "source": [
    "def saveModel(model):\n",
    "    test = pd.read_csv(\"data/final_loan_test.csv\")\n",
    "    X = test.drop(columns=[\"loan_id\",\"loan_success\"])\n",
    "    scaler.fit(X)\n",
    "    X = scaler.transform(X)\n",
    "    Y = model.predict_proba(X)\n",
    "    test[\"loan_success\"] = pd.DataFrame(Y)[0]\n",
    "    file_name = \"(\"+str(int(maxauc*10000)/100.0)+\")\"+datetime.now().strftime(\"%H:%M_%Y.%m.%d\")+\"_\"+model.__class__.__name__+\"_prediction.csv\"\n",
    "    test[[\"loan_id\",\"loan_success\"]].rename(columns={\"loan_id\":\"Id\",\"loan_success\":\"Predicted\"}).to_csv(\"predictions/\"+file_name,index=False)\n",
    "    print(file_name+\" saved successfully\")"
   ]
  },
  {
   "cell_type": "code",
   "execution_count": null,
   "id": "d7e87503",
   "metadata": {},
   "outputs": [],
   "source": [
    "if type(model) == list:\n",
    "    for m in model:\n",
    "        saveModel(m)\n",
    "else:\n",
    "    saveModel(model)"
   ]
  },
  {
   "cell_type": "code",
   "execution_count": null,
   "id": "83b78c52",
   "metadata": {},
   "outputs": [],
   "source": []
  }
 ],
 "metadata": {
  "kernelspec": {
   "display_name": "Python 3 (ipykernel)",
   "language": "python",
   "name": "python3"
  },
  "language_info": {
   "codemirror_mode": {
    "name": "ipython",
    "version": 3
   },
   "file_extension": ".py",
   "mimetype": "text/x-python",
   "name": "python",
   "nbconvert_exporter": "python",
   "pygments_lexer": "ipython3",
   "version": "3.9.7"
  }
 },
 "nbformat": 4,
 "nbformat_minor": 5
}
