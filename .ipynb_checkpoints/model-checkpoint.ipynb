{
 "cells": [
  {
   "cell_type": "code",
   "execution_count": 74,
   "id": "b7444891-bbd8-447d-8fbb-39834da4fd45",
   "metadata": {},
   "outputs": [],
   "source": [
    "%matplotlib inline\n",
    "import matplotlib.pyplot as plt\n",
    "import pandas as pd\n",
    "import numpy as np\n",
    "from sklearn.model_selection import train_test_split\n",
    "from sklearn.preprocessing import StandardScaler\n",
    "from sklearn.neighbors import KNeighborsClassifier\n",
    "from sklearn.metrics import classification_report\n",
    "from sklearn.linear_model import LogisticRegression\n",
    "from sklearn.svm import SVC"
   ]
  },
  {
   "cell_type": "code",
   "execution_count": 54,
   "id": "bc5b4cf4-9ffa-4811-a8fe-456561c309dd",
   "metadata": {},
   "outputs": [],
   "source": [
    "scaler = StandardScaler()\n",
    "train = pd.read_csv(\"data/final_loan_train.csv\")\n",
    "X_all = train.drop(columns=[\"loan_id\",\"loan_success\"])\n",
    "Y_all = train[\"loan_success\"]\n",
    "split_size = 0.3\n",
    "X_train, X_test, Y_train, Y_test = train_test_split(X_all, Y_all,test_size=split_size, random_state=42, stratify=Y_all)\n",
    "\n",
    "scaler.fit(X_train)\n",
    "X_train = scaler.transform(X_train)\n",
    "X_test = scaler.transform(X_test)"
   ]
  },
  {
   "cell_type": "markdown",
   "id": "28d2798f-7bc6-4256-9af9-bef126ca6559",
   "metadata": {
    "tags": []
   },
   "source": [
    "## KNN"
   ]
  },
  {
   "cell_type": "code",
   "execution_count": 38,
   "id": "16f84d23-f70b-4297-a4fb-60fd4336c6b8",
   "metadata": {},
   "outputs": [
    {
     "name": "stdout",
     "output_type": "stream",
     "text": [
      "              precision    recall  f1-score   support\n",
      "\n",
      "          -1       0.00      0.00      0.00        14\n",
      "           1       0.86      0.98      0.91        85\n",
      "\n",
      "    accuracy                           0.84        99\n",
      "   macro avg       0.43      0.49      0.46        99\n",
      "weighted avg       0.73      0.84      0.78        99\n",
      "\n"
     ]
    }
   ],
   "source": [
    "knn = KNeighborsClassifier(n_neighbors=5)\n",
    "knn.fit(X_train, Y_train)\n",
    "Y_pred = knn.predict(X_test)\n",
    "print(classification_report(Y_test,Y_pred))"
   ]
  },
  {
   "cell_type": "code",
   "execution_count": 42,
   "id": "5ab49242-ff39-4fc8-96d9-ee4da5a3e5b7",
   "metadata": {},
   "outputs": [
    {
     "name": "stdout",
     "output_type": "stream",
     "text": [
      "              precision    recall  f1-score   support\n",
      "\n",
      "          -1       0.42      0.36      0.38        14\n",
      "           1       0.90      0.92      0.91        85\n",
      "\n",
      "    accuracy                           0.84        99\n",
      "   macro avg       0.66      0.64      0.65        99\n",
      "weighted avg       0.83      0.84      0.83        99\n",
      "\n"
     ]
    }
   ],
   "source": [
    "logreg = LogisticRegression()\n",
    "logreg.fit(X_train, Y_train)\n",
    "Y_pred = logreg.predict(X_test)\n",
    "print(classification_report(Y_test,Y_pred))"
   ]
  },
  {
   "cell_type": "markdown",
   "id": "a2602464-1a26-4c29-a353-6f4df035c4df",
   "metadata": {},
   "source": [
    "# Save result"
   ]
  },
  {
   "cell_type": "code",
   "execution_count": 48,
   "id": "188d392e-423a-421f-9f15-60bc7f47eac2",
   "metadata": {},
   "outputs": [],
   "source": [
    "model = logreg"
   ]
  },
  {
   "cell_type": "code",
   "execution_count": 73,
   "id": "db2bb3ad-9fa9-450d-9c13-19ba9ad38f7d",
   "metadata": {},
   "outputs": [],
   "source": [
    "test = pd.read_csv(\"data/final_loan_test.csv\")\n",
    "X = test.drop(columns=[\"loan_id\",\"loan_success\"])\n",
    "scaler.fit(X)\n",
    "X = scaler.transform(X)\n",
    "Y = model.predict(X)\n",
    "test[\"loan_success\"] = Y\n",
    "test[[\"loan_id\",\"loan_success\"]].rename(columns={\"loan_id\":\"Id\",\"loan_success\":\"Predicted\"}).to_csv(\"prediction.csv\",index=False)"
   ]
  }
 ],
 "metadata": {
  "kernelspec": {
   "display_name": "Python 3 (ipykernel)",
   "language": "python",
   "name": "python3"
  },
  "language_info": {
   "codemirror_mode": {
    "name": "ipython",
    "version": 3
   },
   "file_extension": ".py",
   "mimetype": "text/x-python",
   "name": "python",
   "nbconvert_exporter": "python",
   "pygments_lexer": "ipython3",
   "version": "3.8.10"
  }
 },
 "nbformat": 4,
 "nbformat_minor": 5
}
