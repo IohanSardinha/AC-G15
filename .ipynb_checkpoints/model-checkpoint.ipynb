{
 "cells": [
  {
   "cell_type": "markdown",
   "id": "930832d8-8a93-4820-a625-af7e7dd2da16",
   "metadata": {
    "tags": []
   },
   "source": [
    "### TO DO\n",
    "## Métricas\n",
    "    Para entender direto os resultados das predições dos modelos\n",
    "\n",
    "## Analisar os dados mais profundamente\n",
    "    Quais são melhores para continuar na modelação\n",
    "    \n",
    "    Quais podem ser alterados/ juntados\n",
    "    \n",
    "    Feature selection\n",
    "    \n",
    "## Analiar os modelos\n",
    "    Analisar os parâmetros dos modelos\n",
    "    \n",
    "    Analisar mais modelos e o porque de usá-los\n",
    "    \n",
    "    Parameter tuning\n",
    "    "
   ]
  },
  {
   "cell_type": "code",
   "execution_count": 15,
   "id": "b7444891-bbd8-447d-8fbb-39834da4fd45",
   "metadata": {},
   "outputs": [],
   "source": [
    "%matplotlib inline\n",
    "from datetime import datetime\n",
    "import matplotlib.pyplot as plt\n",
    "import pandas as pd\n",
    "import numpy as np\n",
    "from sklearn import metrics\n",
    "from sklearn.model_selection import train_test_split\n",
    "from sklearn.preprocessing import StandardScaler\n",
    "from sklearn.neighbors import KNeighborsClassifier\n",
    "from sklearn.metrics import classification_report\n",
    "from sklearn.linear_model import LogisticRegression\n",
    "from sklearn.svm import SVC\n",
    "from sklearn.tree import DecisionTreeClassifier\n",
    "from sklearn.naive_bayes import GaussianNB"
   ]
  },
  {
   "cell_type": "code",
   "execution_count": 2,
   "id": "bc5b4cf4-9ffa-4811-a8fe-456561c309dd",
   "metadata": {},
   "outputs": [],
   "source": [
    "scaler = StandardScaler()\n",
    "train = pd.read_csv(\"data/final_loan_train.csv\")\n",
    "X_all = train.drop(columns=[\"loan_id\",\"loan_success\"])\n",
    "Y_all = train[\"loan_success\"]\n",
    "split_size = 0.3\n",
    "X_train, X_test, Y_train, Y_test = train_test_split(X_all, Y_all,test_size=split_size, random_state=42, stratify=Y_all)\n",
    "\n",
    "scaler.fit(X_train)\n",
    "X_train = scaler.transform(X_train)\n",
    "X_test = scaler.transform(X_test)"
   ]
  },
  {
   "cell_type": "markdown",
   "id": "428dcdf6-0c41-4e68-9618-c1c7f42889d2",
   "metadata": {},
   "source": [
    "## Decision Tree"
   ]
  },
  {
   "cell_type": "code",
   "execution_count": 16,
   "id": "d9e7207d-b5e7-4c20-82be-35833d37263a",
   "metadata": {},
   "outputs": [
    {
     "name": "stderr",
     "output_type": "stream",
     "text": [
      "/home/iohan-sardinha/.local/lib/python3.8/site-packages/sklearn/metrics/_ranking.py:999: UndefinedMetricWarning: No positive samples in y_true, true positive value should be meaningless\n",
      "  warnings.warn(\n"
     ]
    },
    {
     "data": {
      "text/plain": [
       "nan"
      ]
     },
     "execution_count": 16,
     "metadata": {},
     "output_type": "execute_result"
    }
   ],
   "source": [
    "decisionTree = DecisionTreeClassifier()\n",
    "decisionTree.fit(X_train, Y_train)\n",
    "Y_pred = decisionTree.predict(X_test)\n",
    "\n",
    "fpr, tpr, thresholds = metrics.roc_curve(Y_test, Y_pred, pos_label=2)\n",
    "metrics.auc(fpr, tpr)"
   ]
  },
  {
   "cell_type": "markdown",
   "id": "28d2798f-7bc6-4256-9af9-bef126ca6559",
   "metadata": {
    "tags": []
   },
   "source": [
    "## KNN"
   ]
  },
  {
   "cell_type": "code",
   "execution_count": 4,
   "id": "16f84d23-f70b-4297-a4fb-60fd4336c6b8",
   "metadata": {},
   "outputs": [
    {
     "name": "stdout",
     "output_type": "stream",
     "text": [
      "              precision    recall  f1-score   support\n",
      "\n",
      "          -1       0.67      0.14      0.24        14\n",
      "           1       0.88      0.99      0.93        85\n",
      "\n",
      "    accuracy                           0.87        99\n",
      "   macro avg       0.77      0.57      0.58        99\n",
      "weighted avg       0.85      0.87      0.83        99\n",
      "\n"
     ]
    }
   ],
   "source": [
    "knn = KNeighborsClassifier(n_neighbors=5)\n",
    "knn.fit(X_train, Y_train)\n",
    "Y_pred = knn.predict(X_test)\n",
    "print(classification_report(Y_test,Y_pred))"
   ]
  },
  {
   "cell_type": "code",
   "execution_count": 5,
   "id": "5ab49242-ff39-4fc8-96d9-ee4da5a3e5b7",
   "metadata": {},
   "outputs": [
    {
     "name": "stdout",
     "output_type": "stream",
     "text": [
      "              precision    recall  f1-score   support\n",
      "\n",
      "          -1       0.38      0.21      0.27        14\n",
      "           1       0.88      0.94      0.91        85\n",
      "\n",
      "    accuracy                           0.84        99\n",
      "   macro avg       0.63      0.58      0.59        99\n",
      "weighted avg       0.81      0.84      0.82        99\n",
      "\n"
     ]
    }
   ],
   "source": [
    "logreg = LogisticRegression()\n",
    "logreg.fit(X_train, Y_train)\n",
    "Y_pred = logreg.predict(X_test)\n",
    "print(classification_report(Y_test,Y_pred))"
   ]
  },
  {
   "cell_type": "markdown",
   "id": "e84ffc50-157d-4d59-a3c3-636843636ca4",
   "metadata": {},
   "source": [
    "## SVM"
   ]
  },
  {
   "cell_type": "code",
   "execution_count": 6,
   "id": "e6833036-03f9-4601-ae62-f3a4cc138cd0",
   "metadata": {},
   "outputs": [
    {
     "name": "stdout",
     "output_type": "stream",
     "text": [
      "              precision    recall  f1-score   support\n",
      "\n",
      "          -1       0.60      0.21      0.32        14\n",
      "           1       0.88      0.98      0.93        85\n",
      "\n",
      "    accuracy                           0.87        99\n",
      "   macro avg       0.74      0.60      0.62        99\n",
      "weighted avg       0.84      0.87      0.84        99\n",
      "\n"
     ]
    }
   ],
   "source": [
    "svm = SVC(kernel='linear')\n",
    "svm.fit(X_train, Y_train)\n",
    "Y_pred = svm.predict(X_test)\n",
    "print(classification_report(Y_test,Y_pred))"
   ]
  },
  {
   "cell_type": "markdown",
   "id": "ce50e009-5059-4af8-ac49-7f7fe6ed45e3",
   "metadata": {},
   "source": [
    "## Naive Bayes"
   ]
  },
  {
   "cell_type": "code",
   "execution_count": 7,
   "id": "455b9b65-c062-475c-b81a-f26f66c66a1f",
   "metadata": {},
   "outputs": [
    {
     "name": "stdout",
     "output_type": "stream",
     "text": [
      "              precision    recall  f1-score   support\n",
      "\n",
      "          -1       0.15      1.00      0.26        14\n",
      "           1       1.00      0.06      0.11        85\n",
      "\n",
      "    accuracy                           0.19        99\n",
      "   macro avg       0.57      0.53      0.19        99\n",
      "weighted avg       0.88      0.19      0.13        99\n",
      "\n"
     ]
    }
   ],
   "source": [
    "gnb = GaussianNB()\n",
    "gnb.fit(X_train, Y_train)\n",
    "Y_pred = gnb.predict(X_test)\n",
    "print(classification_report(Y_test,Y_pred))"
   ]
  },
  {
   "cell_type": "markdown",
   "id": "a2602464-1a26-4c29-a353-6f4df035c4df",
   "metadata": {},
   "source": [
    "# Save result"
   ]
  },
  {
   "cell_type": "code",
   "execution_count": 8,
   "id": "db2bb3ad-9fa9-450d-9c13-19ba9ad38f7d",
   "metadata": {},
   "outputs": [],
   "source": [
    "model = knn\n",
    "\n",
    "test = pd.read_csv(\"data/final_loan_test.csv\")\n",
    "X = test.drop(columns=[\"loan_id\",\"loan_success\"])\n",
    "scaler.fit(X)\n",
    "X = scaler.transform(X)\n",
    "Y = model.predict(X)\n",
    "test[\"loan_success\"] = Y\n",
    "test[[\"loan_id\",\"loan_success\"]].rename(columns={\"loan_id\":\"Id\",\"loan_success\":\"Predicted\"}).to_csv(\"predictions/\"+datetime.now().strftime(\"%H:%M_%Y.%m.%d\")+\"_\"+model.__class__.__name__+\"_prediction.csv\",index=False)"
   ]
  }
 ],
 "metadata": {
  "kernelspec": {
   "display_name": "Python 3 (ipykernel)",
   "language": "python",
   "name": "python3"
  },
  "language_info": {
   "codemirror_mode": {
    "name": "ipython",
    "version": 3
   },
   "file_extension": ".py",
   "mimetype": "text/x-python",
   "name": "python",
   "nbconvert_exporter": "python",
   "pygments_lexer": "ipython3",
   "version": "3.8.10"
  }
 },
 "nbformat": 4,
 "nbformat_minor": 5
}
