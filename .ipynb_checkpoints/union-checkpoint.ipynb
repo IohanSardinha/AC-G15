{
 "cells": [
  {
   "cell_type": "code",
   "execution_count": 1,
   "id": "7f2f445e-afa4-4de5-a152-bba5ea32393f",
   "metadata": {},
   "outputs": [],
   "source": [
    "%matplotlib inline\n",
    "import matplotlib.pyplot as plt\n",
    "from math import sin\n",
    "import pandas as pd\n",
    "import os\n",
    "import numpy as np"
   ]
  },
  {
   "cell_type": "code",
   "execution_count": 2,
   "id": "0be02477-f1a7-42b2-bec5-a44fa98df4db",
   "metadata": {},
   "outputs": [
    {
     "name": "stderr",
     "output_type": "stream",
     "text": [
      "/home/iohan-sardinha/.local/lib/python3.8/site-packages/IPython/core/interactiveshell.py:3444: DtypeWarning: Columns (8) have mixed types.Specify dtype option on import or set low_memory=False.\n",
      "  exec(code_obj, self.user_global_ns, self.user_ns)\n"
     ]
    }
   ],
   "source": [
    "accountDB = pd.read_csv('data/account.csv', sep=\";\")\n",
    "cardDB = pd.read_csv('data/card_train.csv', sep=\";\")\n",
    "dispositionDB = pd.read_csv('data/disp.csv', sep=\";\")\n",
    "districtDB = pd.read_csv('data/district.csv', sep=\";\")\n",
    "loanDB = pd.read_csv('data/loan_train.csv', sep=\";\")\n",
    "transactionDB = pd.read_csv('data/trans_train.csv', sep=\";\")"
   ]
  },
  {
   "cell_type": "code",
   "execution_count": 3,
   "id": "17e0a785-4c4e-46c5-a430-2ac51beac068",
   "metadata": {},
   "outputs": [],
   "source": [
    "clientDB = pd.read_csv('data/client.csv', sep=\";\")\n",
    "clientDB.insert(0, \"women\",(((clientDB['birth_number'] - ((clientDB['birth_number']//10000 * 10000) + (clientDB['birth_number'] - clientDB['birth_number']//100 * 100)))//100) > 50))\n",
    "clientDB.insert(0,\"age\", 1998 - (1900 + clientDB['birth_number']//10000))\n",
    "clientDB[\"birthday\"] = np.where(clientDB[\"women\"], clientDB['birth_number']-5000, clientDB['birth_number'])\n",
    "clientDB = clientDB.drop(columns=\"birth_number\")"
   ]
  },
  {
   "cell_type": "code",
   "execution_count": 4,
   "id": "7bd17b19-6a52-44fa-90e0-905de62ee98e",
   "metadata": {},
   "outputs": [],
   "source": [
    "loanDB = loanDB.rename(columns={\"date\":\"loan_date\", \"duration\":\"loan_duration\", \"status\": \"loan_success\"})\n",
    "dispositionDB = dispositionDB.rename(columns={\"type\":\"disposition_type\"})\n",
    "accountDB = accountDB.rename(columns={\"date\":\"account_creation\", \"frequency\":\"account_frequency\"})"
   ]
  },
  {
   "cell_type": "code",
   "execution_count": 47,
   "id": "1e7457ef-b9c7-49a5-a0fa-b9b5c1027f5e",
   "metadata": {},
   "outputs": [],
   "source": [
    "clientWthDistrict = clientDB.merge(districtDB, left_on=\"district_id\", right_on=\"code \")\n",
    "clientWthDistrict = clientWthDistrict.drop(columns=[\"name \", \"district_id\"]) \n",
    "clientWthDistrict =  clientWthDistrict.rename(columns={col:(\"client_district \"+col) for col in clientWthDistrict.columns[4:]})"
   ]
  },
  {
   "cell_type": "code",
   "execution_count": 46,
   "id": "961a1c32-f1f8-4ace-a1b2-59fd21088d5e",
   "metadata": {},
   "outputs": [],
   "source": [
    "accountWthDistrict = accountDB.merge(districtDB, left_on=\"district_id\", right_on=\"code \")\n",
    "accountWthDistrict = accountWthDistrict.drop(columns=[\"name \", \"district_id\"])\n",
    "accountWthDistrict =  accountWthDistrict.rename(columns={col:(\"account_district \"+col) for col in accountWthDistrict.columns[3:]})"
   ]
  },
  {
   "cell_type": "code",
   "execution_count": 58,
   "id": "7486a6cf-471c-40e0-b234-336f8d638f73",
   "metadata": {},
   "outputs": [],
   "source": [
    "accountClient = dispositionDB.merge(accountWthDistrict)\n",
    "accountClient = accountClient.merge(clientWthDistrict)\n",
    "accountClient = accountClient.drop(columns=\"client_id\")\n",
    "accountClient.to_csv(\"accountClient.csv\")"
   ]
  },
  {
   "cell_type": "code",
   "execution_count": 61,
   "id": "a9750161-98c0-43c0-b929-d2ca193ec4d3",
   "metadata": {},
   "outputs": [],
   "source": [
    "loanDB.to_csv(\"loan.csv\")\n",
    "loanFinal = loanDB.merge(accountClient, on=\"account_id\")\n",
    "loanFinal.to_csv(\"loanFinal.csv\")"
   ]
  }
 ],
 "metadata": {
  "kernelspec": {
   "display_name": "Python 3 (ipykernel)",
   "language": "python",
   "name": "python3"
  },
  "language_info": {
   "codemirror_mode": {
    "name": "ipython",
    "version": 3
   },
   "file_extension": ".py",
   "mimetype": "text/x-python",
   "name": "python",
   "nbconvert_exporter": "python",
   "pygments_lexer": "ipython3",
   "version": "3.8.10"
  }
 },
 "nbformat": 4,
 "nbformat_minor": 5
}
